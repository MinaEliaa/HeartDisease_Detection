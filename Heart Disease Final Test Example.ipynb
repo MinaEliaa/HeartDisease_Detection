{
 "cells": [
  {
   "cell_type": "code",
   "execution_count": 1,
   "id": "38069c57",
   "metadata": {},
   "outputs": [],
   "source": [
    "import pandas as pd\n",
    "from sklearn import preprocessing\n",
    "from imblearn.over_sampling import SMOTE\n",
    "from sklearn.model_selection import train_test_split\n",
    "from sklearn.ensemble import RandomForestClassifier"
   ]
  },
  {
   "cell_type": "code",
   "execution_count": 2,
   "id": "eb8abeba",
   "metadata": {},
   "outputs": [],
   "source": [
    "df = pd.read_csv('heart_2020_cleaned.csv')\n",
    "cat_columns = df.select_dtypes(['object']).columns\n",
    "df_1 = pd.get_dummies(df, columns=cat_columns[1:])\n",
    "df_1['HeartDisease'].replace({'Yes': 1, 'No': 0}, inplace=True)"
   ]
  },
  {
   "cell_type": "code",
   "execution_count": 3,
   "id": "b19be653",
   "metadata": {},
   "outputs": [],
   "source": [
    "X = df_1.drop('HeartDisease', axis=1)\n",
    "y = df_1['HeartDisease']"
   ]
  },
  {
   "cell_type": "code",
   "execution_count": 4,
   "id": "87cc2ceb",
   "metadata": {},
   "outputs": [],
   "source": [
    "X = preprocessing.StandardScaler().fit(X).transform(X)"
   ]
  },
  {
   "cell_type": "code",
   "execution_count": 5,
   "id": "62b461c6",
   "metadata": {},
   "outputs": [],
   "source": [
    "over = SMOTE(k_neighbors=2000)\n",
    "X, y = over.fit_resample(X, y)"
   ]
  },
  {
   "cell_type": "code",
   "execution_count": 6,
   "id": "5d666eee",
   "metadata": {},
   "outputs": [],
   "source": [
    "X_train, X_test, y_train, y_test = train_test_split(X, y, test_size=0.25, random_state=44, stratify=y)"
   ]
  },
  {
   "cell_type": "code",
   "execution_count": 7,
   "id": "f89f7f90",
   "metadata": {},
   "outputs": [
    {
     "data": {
      "text/plain": [
       "RandomForestClassifier(max_depth=20, random_state=44)"
      ]
     },
     "execution_count": 7,
     "metadata": {},
     "output_type": "execute_result"
    }
   ],
   "source": [
    "classifier = RandomForestClassifier(random_state=44, max_depth=20)\n",
    "classifier.fit(X_train, y_train)"
   ]
  },
  {
   "cell_type": "code",
   "execution_count": 13,
   "id": "cafdfb47",
   "metadata": {},
   "outputs": [],
   "source": [
    "def predict_heart_disease(features, X_data):\n",
    "    # Convert input features to a DataFrame\n",
    "    input_data = pd.DataFrame([features], columns=X_data.columns)\n",
    "\n",
    "    # Perform one-hot encoding on the input data using the same encoding as the training data\n",
    "    input_data_encoded = pd.get_dummies(input_data).reindex(columns=X_data.columns, fill_value=0)\n",
    "\n",
    "    # Make predictions using the trained model\n",
    "    prediction = classifier.predict(input_data_encoded)\n",
    "    return prediction[0]"
   ]
  },
  {
   "cell_type": "code",
   "execution_count": 15,
   "id": "aec7f080",
   "metadata": {},
   "outputs": [
    {
     "name": "stdout",
     "output_type": "stream",
     "text": [
      "Heart Disease prediction: 1\n"
     ]
    },
    {
     "name": "stderr",
     "output_type": "stream",
     "text": [
      "F:\\a\\lib\\site-packages\\sklearn\\base.py:443: UserWarning: X has feature names, but RandomForestClassifier was fitted without feature names\n",
      "  warnings.warn(\n"
     ]
    }
   ],
   "source": [
    "# Example usage:\n",
    "input_features = {\n",
    "    \n",
    "    'BMI': 21.3,\n",
    "    'PhysicalHealth': 5,\n",
    "    'MentalHealth': 4,\n",
    "    'SleepTime': 8,\n",
    "    \n",
    "    'Smoking_No': 1,\n",
    "    'Smoking_Yes': 0,\n",
    "    \n",
    "    'AlcoholDrinking_No': 1,\n",
    "    'AlcoholDrinking_Yes': 0,\n",
    "    \n",
    "    'Stroke_No': 0,\n",
    "    'Stroke_Yes': 1,\n",
    "    \n",
    "    'DiffWalking_No': 1,\n",
    "    'DiffWalking_Yes': 0,\n",
    "    \n",
    "    'Sex_Female': 1,\n",
    "    'Sex_Male': 0,\n",
    "    \n",
    "    'AgeCategory_18-24': 1,\n",
    "    'AgeCategory_25-29': 0,\n",
    "    'AgeCategory_30-34': 0,\n",
    "    'AgeCategory_35-39': 0,\n",
    "    'AgeCategory_40-44': 0,\n",
    "    'AgeCategory_45-49': 0,\n",
    "    'AgeCategory_50-54': 0,\n",
    "    'AgeCategory_55-59': 0,\n",
    "    'AgeCategory_60-64': 0,\n",
    "    'AgeCategory_65-69': 0,\n",
    "    'AgeCategory_70-74': 0,\n",
    "    'AgeCategory_75-79': 0,\n",
    "    'AgeCategory_80 or older': 0,\n",
    "    \n",
    "    'Race_American Indian/Alaskan Native': 0,\n",
    "    'Race_Asian': 0,\n",
    "    'Race_Black': 0,\n",
    "    'Race_Hispanic': 0,\n",
    "    'Race_Other': 0,\n",
    "    'Race_White': 1,\n",
    "    \n",
    "    'Diabetic_No': 0,\n",
    "    'Diabetic_No, borderline diabetes': 0,\n",
    "    'Diabetic_Yes': 1,\n",
    "    'Diabetic_Yes (during pregnancy)': 0,\n",
    "    \n",
    "    'PhysicalActivity_No': 1,\n",
    "    'PhysicalActivity_Yes': 0,\n",
    "    \n",
    "    'GenHealth_Excellent': 0,\n",
    "    'GenHealth_Fair': 0,\n",
    "    'GenHealth_Good': 1,\n",
    "    'GenHealth_Poor': 0,\n",
    "    'GenHealth_Very good': 0,\n",
    "    \n",
    "    'Asthma_No': 1,\n",
    "    'Asthma_Yes': 0,\n",
    "    \n",
    "    'KidneyDisease_No': 1,\n",
    "    'KidneyDisease_Yes': 0,\n",
    "    \n",
    "    'SkinCancer_No': 1,\n",
    "    'SkinCancer_Yes': 0\n",
    "}\n",
    "\n",
    "X_data = pd.DataFrame([input_features])\n",
    "prediction = predict_heart_disease(input_features, X_data)\n",
    "print(\"Heart Disease prediction:\", prediction)"
   ]
  },
  {
   "cell_type": "code",
   "execution_count": null,
   "id": "20e31a89",
   "metadata": {},
   "outputs": [],
   "source": []
  }
 ],
 "metadata": {
  "kernelspec": {
   "display_name": "Python 3 (ipykernel)",
   "language": "python",
   "name": "python3"
  },
  "language_info": {
   "codemirror_mode": {
    "name": "ipython",
    "version": 3
   },
   "file_extension": ".py",
   "mimetype": "text/x-python",
   "name": "python",
   "nbconvert_exporter": "python",
   "pygments_lexer": "ipython3",
   "version": "3.9.13"
  }
 },
 "nbformat": 4,
 "nbformat_minor": 5
}
